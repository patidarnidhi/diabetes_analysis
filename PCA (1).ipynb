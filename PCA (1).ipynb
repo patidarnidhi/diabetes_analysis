{
  "nbformat": 4,
  "nbformat_minor": 0,
  "metadata": {
    "colab": {
      "provenance": []
    },
    "kernelspec": {
      "name": "python3",
      "display_name": "Python 3"
    },
    "language_info": {
      "name": "python"
    }
  },
  "cells": [
    {
      "cell_type": "markdown",
      "source": [
        "**Importing required libraries**"
      ],
      "metadata": {
        "id": "Bu5j1E4La4AO"
      }
    },
    {
      "cell_type": "code",
      "execution_count": 50,
      "metadata": {
        "id": "49_79K10RthA"
      },
      "outputs": [],
      "source": [
        "import numpy as np\n",
        "import pandas as pd\n",
        "import matplotlib.pyplot as plt\n",
        "from numpy import linalg as LA\n",
        "import math"
      ]
    },
    {
      "cell_type": "markdown",
      "source": [
        "**Preprocessing of given data file**"
      ],
      "metadata": {
        "id": "jX0fdlO2a9EV"
      }
    },
    {
      "cell_type": "code",
      "source": [
        "col = ['x1','x2','x3','x4','x5','x6','x7','x8','x9']\n",
        "df = pd.read_csv(\"Diabetes.csv\",names=col, header=None)\n",
        "df1 = df.drop([0],axis=0)\n",
        "df = df1.drop('x9',axis=1)\n",
        "df = df.astype(float)"
      ],
      "metadata": {
        "id": "Y2bXU1iVR2RJ"
      },
      "execution_count": 51,
      "outputs": []
    },
    {
      "cell_type": "code",
      "source": [
        "datas = df.to_numpy()"
      ],
      "metadata": {
        "id": "M0pA8eOtTNsU"
      },
      "execution_count": 52,
      "outputs": []
    },
    {
      "cell_type": "markdown",
      "source": [
        "**Function to plot graph**"
      ],
      "metadata": {
        "id": "NY6xtBo7eMl9"
      }
    },
    {
      "cell_type": "code",
      "source": [
        "def plot(new_df):\n",
        "  n=len(new_df) \n",
        "  y=np.zeros(n)\n",
        "  for i in range(1,n):\n",
        "    cluster = 0\n",
        "    val = new_df.at[i,'x9']\n",
        "    if(val==1):\n",
        "      cluster = 1\n",
        "    y[i]=cluster\n",
        "    \n",
        "  plt.scatter(new_df['PC1'] , new_df['PC2'] , c=y , s=20)\n",
        "  plt.show()"
      ],
      "metadata": {
        "id": "LX5YFBMqeQ0E"
      },
      "execution_count": 53,
      "outputs": []
    },
    {
      "cell_type": "markdown",
      "source": [
        "**Main function to implement PCA**"
      ],
      "metadata": {
        "id": "NL-4H6YEbXHe"
      }
    },
    {
      "cell_type": "code",
      "source": [
        "def PCA(datas):\n",
        "\n",
        "  #subtracting mean\n",
        "  new_data = datas - np.mean(datas , axis=0)\n",
        "  #print(new_data)\n",
        "\n",
        "  #covariance matrix\n",
        "  cov_mat = np.cov(new_data , rowvar=False)\n",
        "  #print(cov_mat)\n",
        "\n",
        "  #eigen values, eigen vectors of covariance matrix & sort theem to find principle component\n",
        "  e_val , e_vec = LA.eig(cov_mat)\n",
        "  #sorted_order = e_val.argsort()[::-1]\n",
        "  #sorted_eval = e_val[sorted_order]\n",
        "  #sorted_evec = e_vec[: , sorted_order]\n",
        "\n",
        "  \n",
        "\n",
        "  indices = np.arange(0,len(e_val), 1)\n",
        "  indices = e_val.argsort()[::-1]\n",
        "  sorted_eval = e_val[indices]\n",
        "  sorted_evec = e_vec[:,indices]\n",
        "\n",
        "  print(sorted_evec)\n",
        "\n",
        "  #vector of two principle component\n",
        "  prncpl_comp = sorted_evec[: , 0:2] \n",
        "  #print(prncpl_comp)\n",
        "\n",
        "  #transformation of given data according to these components\n",
        "  #reduced_data = np.dot(np.dot(prncpl_comp , prncpl_comp.transpose()) , new_data.transpose()).transpose()\n",
        "  reduced_data = np.dot(prncpl_comp.transpose() , new_data.transpose()).transpose()\n",
        "  print(reduced_data)\n",
        "\n",
        "  #creating new dataframe \n",
        "  old_df = pd.DataFrame(reduced_data , index= range(1,769) , columns=['PC1' , 'PC2'])\n",
        "  outcome = pd.DataFrame(df1['x9'])\n",
        "  outcome = outcome.astype(float)\n",
        "  new_df = pd.concat([old_df , outcome] , axis=1)\n",
        "\n",
        "  plot(new_df)\n",
        "  return old_df , outcome"
      ],
      "metadata": {
        "id": "CoWc02RmcOoH"
      },
      "execution_count": 54,
      "outputs": []
    },
    {
      "cell_type": "code",
      "source": [
        "old_df , outcome = PCA(datas)"
      ],
      "metadata": {
        "colab": {
          "base_uri": "https://localhost:8080/",
          "height": 676
        },
        "id": "tIRs8H_1emke",
        "outputId": "db2e067d-d25e-411e-f585-de40753b1794"
      },
      "execution_count": 55,
      "outputs": [
        {
          "output_type": "stream",
          "name": "stdout",
          "text": [
            "[[-2.02176587e-03  2.26488861e-02 -2.24649003e-02 -4.90459604e-02\n",
            "   1.51612874e-01  5.04730888e-03 -9.86672995e-01 -6.10123250e-03]\n",
            " [ 9.78115765e-02  9.72210040e-01  1.43428710e-01  1.19830016e-01\n",
            "  -8.79407680e-02 -5.07391813e-02 -8.83426114e-04  8.25459539e-04]\n",
            " [ 1.60930503e-02  1.41909330e-01 -9.22467192e-01 -2.62742788e-01\n",
            "  -2.32165009e-01 -7.56365525e-02  1.22975947e-03 -5.20865450e-04]\n",
            " [ 6.07566861e-02 -5.78614699e-02 -3.07013055e-01  8.84369380e-01\n",
            "   2.59973487e-01 -2.21363068e-01  3.76444746e-04  2.54871909e-03]\n",
            " [ 9.93110844e-01 -9.46266913e-02  2.09773019e-02 -6.55503615e-02\n",
            "  -1.72312241e-04  6.13326472e-03 -1.42307394e-03  2.68965921e-04]\n",
            " [ 1.40108085e-02  4.69729766e-02 -1.32444542e-01  1.92801728e-01\n",
            "   2.14744823e-02  9.70776708e-01  2.73046214e-03  2.67341863e-03]\n",
            " [ 5.37167919e-04  8.16804621e-04 -6.39983017e-04  2.69908637e-03\n",
            "   1.64080684e-03  2.02903702e-03  6.34402965e-03 -9.99972146e-01]\n",
            " [-3.56474430e-03  1.40168181e-01 -1.25454310e-01 -3.01024330e-01\n",
            "   9.20504903e-01  1.51133239e-02  1.62555343e-01  1.95271966e-03]]\n",
            "[[-75.71465491  35.95078264]\n",
            " [-82.3582676  -28.90821322]\n",
            " [-74.63064344  67.90649647]\n",
            " ...\n",
            " [ 32.11319827  -3.3766648 ]\n",
            " [-80.21449431  14.18601977]\n",
            " [-81.30814972 -21.62149606]]\n"
          ]
        },
        {
          "output_type": "display_data",
          "data": {
            "text/plain": [
              "<Figure size 432x288 with 1 Axes>"
            ],
            "image/png": "[encoded data removed]"
          },
          "metadata": {
            "needs_background": "light"
          }
        }
      ]
    },
    {
      "cell_type": "code",
      "source": [
        "print(old_df)\n",
        "n=len(old_df)\n",
        "n_train=math.ceil(n*0.8)\n",
        "n_test=n-n_train\n",
        "x_train=old_df.iloc[0:n_train,:]\n",
        "x_test=old_df.iloc[n_train:n,:]\n",
        "y_train=outcome.iloc[0:n_train]\n",
        "y_test=outcome.iloc[n_train:n]\n",
        "print (f\"X_train: {x_train.shape}, y_train: {y_train.shape}\")\n",
        "\n",
        "print (f\"X_test: {x_test.shape}, y_test: {y_test.shape}\")"
      ],
      "metadata": {
        "colab": {
          "base_uri": "https://localhost:8080/"
        },
        "id": "3kasnsg1QXLY",
        "outputId": "4cb783ea-c7f6-4cf6-95a0-ab557147d359"
      },
      "execution_count": 56,
      "outputs": [
        {
          "output_type": "stream",
          "name": "stdout",
          "text": [
            "           PC1        PC2\n",
            "1   -75.714655  35.950783\n",
            "2   -82.358268 -28.908213\n",
            "3   -74.630643  67.906496\n",
            "4    11.077423 -34.898486\n",
            "5    89.743788   2.746937\n",
            "..         ...        ...\n",
            "764  99.237881 -25.080927\n",
            "765 -78.641239   7.688010\n",
            "766  32.113198  -3.376665\n",
            "767 -80.214494  14.186020\n",
            "768 -81.308150 -21.621496\n",
            "\n",
            "[768 rows x 2 columns]\n",
            "X_train: (615, 2), y_train: (615, 1)\n",
            "X_test: (153, 2), y_test: (153, 1)\n"
          ]
        }
      ]
    },
    {
      "cell_type": "code",
      "source": [
        "n_col=len(x_train.columns)\n",
        "print(n_col)"
      ],
      "metadata": {
        "colab": {
          "base_uri": "https://localhost:8080/"
        },
        "id": "W5F8QXg0SkDz",
        "outputId": "092d8592-f75e-42e8-ceb3-bca6df274d7f"
      },
      "execution_count": 57,
      "outputs": [
        {
          "output_type": "stream",
          "name": "stdout",
          "text": [
            "2\n"
          ]
        }
      ]
    },
    {
      "cell_type": "code",
      "source": [
        "n_col=len(x_train.columns)\n",
        "w=np.random.randn(n_col,1)\n",
        "\n",
        "y_pred=np.dot(x_train,w)\n",
        "print(x_train.shape,w.shape,y_train.shape)\n",
        "m=len(y_train)\n",
        "lembda=13\n",
        "loss=(1/(2*m))*np.dot((y_train-y_pred).transpose(),(y_train-y_pred))+lembda*(np.dot(w.transpose(),w))/2\n",
        "\n",
        "print(loss)"
      ],
      "metadata": {
        "colab": {
          "base_uri": "https://localhost:8080/"
        },
        "id": "wsypLZiASoMB",
        "outputId": "88e099ca-e8d4-4c10-f72b-251f6df471f6"
      },
      "execution_count": 58,
      "outputs": [
        {
          "output_type": "stream",
          "name": "stdout",
          "text": [
            "(615, 2) (2, 1) (615, 1)\n",
            "[[434.18592972]]\n"
          ]
        }
      ]
    },
    {
      "cell_type": "code",
      "source": [
        "gw=(-1/m)*np.dot(x_train.transpose(),(y_train-y_pred))+lembda*w\n",
        "print(gw)\n",
        "alpha=1e-1\n",
        "w=w-alpha*gw"
      ],
      "metadata": {
        "colab": {
          "base_uri": "https://localhost:8080/"
        },
        "id": "iRBSyqpeStJT",
        "outputId": "8cef88ed-0cf1-445d-8dd2-ef6b2d284179"
      },
      "execution_count": 59,
      "outputs": [
        {
          "output_type": "stream",
          "name": "stdout",
          "text": [
            "[[-3087.15049438]\n",
            " [  395.13504891]]\n"
          ]
        }
      ]
    },
    {
      "cell_type": "code",
      "source": [
        "itr=0\n",
        "m=len(x_train)\n",
        "alpha=0.0001\n",
        "lembda=10\n",
        "w=np.random.randn(n_col,1)\n",
        "wlist=[]\n",
        "losslist=[]\n",
        "itrlist=[]\n",
        "while(itr!=100):\n",
        "  y_pred=np.dot(x_train,w)\n",
        "  loss=(1/(2*m))*np.dot((y_train-y_pred).transpose(),(y_train-y_pred))+(lembda*(np.dot(w.transpose(),w))/2)\n",
        "  if itr==99:\n",
        "    print(f\"itr:{itr}, loss{loss}\")\n",
        "  \n",
        "  \n",
        "  \n",
        "  gw=(-1/m)*np.dot(x_train.transpose(),(y_train-y_pred))+lembda*w\n",
        "  w=w-alpha*gw\n",
        "  wlist.append(w)\n",
        "  itrlist.append(itr)\n",
        "  losslist.append(loss[0][0])\n",
        "  itr=itr+1\n",
        "  \n",
        "\n",
        "print(w)"
      ],
      "metadata": {
        "colab": {
          "base_uri": "https://localhost:8080/"
        },
        "id": "WBAL34cTSyDV",
        "outputId": "e44d4899-a824-4599-a8b8-3930b2d18725"
      },
      "execution_count": 60,
      "outputs": [
        {
          "output_type": "stream",
          "name": "stdout",
          "text": [
            "itr:99, loss[[0.15107951]]\n",
            "[[0.00064668]\n",
            " [0.00637045]]\n"
          ]
        }
      ]
    },
    {
      "cell_type": "code",
      "source": [
        "pred_train=np.dot(x_train,w)\n",
        "pred_test =np.dot(x_test,w) \n",
        "print(pred_train.shape,pred_test.shape)"
      ],
      "metadata": {
        "colab": {
          "base_uri": "https://localhost:8080/"
        },
        "id": "yxW_64obS3gx",
        "outputId": "f6e22217-3354-4f1d-9044-5a5d2beb1f6b"
      },
      "execution_count": 61,
      "outputs": [
        {
          "output_type": "stream",
          "name": "stdout",
          "text": [
            "(615, 1) (153, 1)\n"
          ]
        }
      ]
    },
    {
      "cell_type": "code",
      "source": [
        "train_mse = np.mean((y_train - pred_train) ** 2)\n",
        "test_mse = np.mean((y_test - pred_test) ** 2)\n",
        "train_mse = np.mean((y_train - pred_train) ** 2)\n",
        "test_mse = np.mean((y_test - pred_test) ** 2)\n",
        "print (f\"train_MSE: {train_mse} test_MSE: {test_mse}\")"
      ],
      "metadata": {
        "colab": {
          "base_uri": "https://localhost:8080/"
        },
        "id": "UVkB-CcRS7ds",
        "outputId": "ccf4c6a7-3ac7-40e6-c4b2-ae53d3d273f1"
      },
      "execution_count": 62,
      "outputs": [
        {
          "output_type": "stream",
          "name": "stdout",
          "text": [
            "train_MSE: x9    0.301749\n",
            "dtype: float64 test_MSE: x9    0.288048\n",
            "dtype: float64\n"
          ]
        }
      ]
    },
    {
      "cell_type": "code",
      "source": [
        "pred = np.dot(x_test, w)\n",
        "sum=0\n",
        "for i in range(len(pred)):\n",
        "  if y_test.iloc[i][0]==0:\n",
        "    if ((pred[i][0]*(-1)) >= 0):\n",
        "      sum+=1\n",
        "  else:\n",
        "    if (pred[i][0]*y_test.iloc[i][0]) >= 0:\n",
        "      sum+=1\n",
        "  \n",
        "\n",
        "accuracy = sum/len(pred)\n",
        "print(\"Accuracy on test data =\",accuracy*100)"
      ],
      "metadata": {
        "colab": {
          "base_uri": "https://localhost:8080/"
        },
        "id": "iUG4glNsS-xM",
        "outputId": "81a95a1e-5c47-4b4f-9831-61fcf2d94040"
      },
      "execution_count": 63,
      "outputs": [
        {
          "output_type": "stream",
          "name": "stdout",
          "text": [
            "Accuracy on test data = 71.89542483660131\n"
          ]
        }
      ]
    },
    {
      "cell_type": "code",
      "source": [
        "pred = np.dot(x_train, w)\n",
        "sum=0\n",
        "for i in range(len(pred)):\n",
        "  if y_train.iloc[i][0]==0:\n",
        "    if ((pred[i][0]*(-1)) >= 0):\n",
        "      sum+=1\n",
        "  else:\n",
        "    if (pred[i][0]*y_train.iloc[i][0]) >= 0:\n",
        "      sum+=1\n",
        "  \n",
        "\n",
        "accuracy = sum/len(pred)\n",
        "print(\"Accuracy on training data =\",accuracy*100)"
      ],
      "metadata": {
        "colab": {
          "base_uri": "https://localhost:8080/"
        },
        "id": "-JTi33OeTGQe",
        "outputId": "b5086a7d-d46b-4150-c2e6-641a3081959a"
      },
      "execution_count": 64,
      "outputs": [
        {
          "output_type": "stream",
          "name": "stdout",
          "text": [
            "Accuracy on training data = 70.5691056910569\n"
          ]
        }
      ]
    }
  ]
}